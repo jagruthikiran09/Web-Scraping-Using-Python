{
 "cells": [
  {
   "cell_type": "code",
   "execution_count": 19,
   "id": "1c98b97b",
   "metadata": {},
   "outputs": [],
   "source": [
    "#import libraries\n",
    "\n",
    "from bs4 import BeautifulSoup\n",
    "import requests\n",
    "import time\n",
    "import datetime\n",
    "\n",
    "\n",
    "import smtplib"
   ]
  },
  {
   "cell_type": "code",
   "execution_count": 20,
   "id": "bb973cb1",
   "metadata": {},
   "outputs": [
    {
     "name": "stdout",
     "output_type": "stream",
     "text": [
      "\n",
      "            FSPRO Case for iPad Pro 11 2021/2020/2018 (Generations 3rd/ 2nd/1st), 360 Rotate PU Leather Smart Protective Stand Cover for Apple iPad Pro 11 inch 3rd Gen/ 2nd Gen/ 1st Gen with Auto Wake/Sleep\n",
      "           \n",
      "\n",
      "                             £8.95\n",
      "                            \n"
     ]
    }
   ],
   "source": [
    "URL = 'https://www.amazon.co.uk/Degree-Rotate-Leather-Rotating-Generation/dp/B08QL53P6Z/?_encoding=UTF8&pd_rd_w=NgqYv&content-id=amzn1.sym.bfa0f01e-fa62-4728-9e74-c40e8c88965e&pf_rd_p=bfa0f01e-fa62-4728-9e74-c40e8c88965e&pf_rd_r=HFPZC5105PYYXPXJV2AZ&pd_rd_wg=NYe92&pd_rd_r=f31b08da-6b23-420c-b5d8-7d4febfc4408&ref_=pd_gw_pd_pss_gwp_d_0'\n",
    "headers = {\"User-Agent\": \"Mozilla/5.0 (Windows NT 10.0; Win64; x64) AppleWebKit/537.36 (KHTML, like Gecko) Chrome/78.0.3904.108 Safari/537.36\", \"Accept-Encoding\":\"gzip, deflate\", \"Accept\":\"text/html,application/xhtml+xml,application/xml;q=0.9,*/*;q=0.8\", \"DNT\":\"1\",\"Connection\":\"close\", \"Upgrade-Insecure-Requests\":\"1\"}\n",
    "\n",
    "page = requests.get(URL,headers=headers)\n",
    "\n",
    "soup1 = BeautifulSoup(page.content,\"html.parser\")\n",
    "\n",
    "soup2 = BeautifulSoup(soup1.prettify(), \"html.parser\")\n",
    "\n",
    "title = soup2.find(id='productTitle').get_text()\n",
    "price = soup2.find(class_ ='a-offscreen').get_text()\n",
    "\n",
    "print(title)\n",
    "print(price)\n",
    "\n",
    "\n"
   ]
  },
  {
   "cell_type": "code",
   "execution_count": 21,
   "id": "c34b2b9f",
   "metadata": {},
   "outputs": [
    {
     "name": "stdout",
     "output_type": "stream",
     "text": [
      "FSPRO Case for iPad Pro 11 2021/2020/2018 (Generations 3rd/ 2nd/1st), 360 Rotate PU Leather Smart Protective Stand Cover for Apple iPad Pro 11 inch 3rd Gen/ 2nd Gen/ 1st Gen with Auto Wake/Sleep\n",
      "8.95\n"
     ]
    }
   ],
   "source": [
    "#clean up the data\n",
    "price = price.strip()[1:]\n",
    "title = title.strip()\n",
    "\n",
    "print(title)\n",
    "print(price)"
   ]
  },
  {
   "cell_type": "code",
   "execution_count": 29,
   "id": "565cbddc",
   "metadata": {},
   "outputs": [
    {
     "name": "stdout",
     "output_type": "stream",
     "text": [
      "2023-06-23\n"
     ]
    }
   ],
   "source": [
    "#create timestamp for the output to track when data was collected\n",
    "\n",
    "import datetime\n",
    "\n",
    "today = datetime.date.today()\n",
    "\n",
    "print(today)"
   ]
  },
  {
   "cell_type": "code",
   "execution_count": 30,
   "id": "b5ffef5e",
   "metadata": {},
   "outputs": [],
   "source": [
    "#create CSV and write headers\n",
    "\n",
    "import csv\n",
    "\n",
    "header = ['Title','Price','Date']\n",
    "data = [title, price,today]\n",
    "  \n",
    "    \n",
    "with open('AmazonWebScraperDataSet1.csv', 'w', newline='', encoding ='UTF8') as f:\n",
    "    writer = csv.writer(f)\n",
    "    writer.writerow(header)\n",
    "    writer.writerow(data)\n",
    "    "
   ]
  },
  {
   "cell_type": "code",
   "execution_count": 39,
   "id": "f6cb9b88",
   "metadata": {},
   "outputs": [
    {
     "name": "stdout",
     "output_type": "stream",
     "text": [
      "                                               Title  Price        Date\n",
      "0  FSPRO Case for iPad Pro 11 2021/2020/2018 (Gen...   8.95  2023-06-23\n",
      "1  FSPRO Case for iPad Pro 11 2021/2020/2018 (Gen...   8.95  2023-06-23\n",
      "2  FSPRO Case for iPad Pro 11 2021/2020/2018 (Gen...   8.95  2023-06-23\n",
      "3  FSPRO Case for iPad Pro 11 2021/2020/2018 (Gen...   8.95  2023-06-23\n",
      "4  FSPRO Case for iPad Pro 11 2021/2020/2018 (Gen...   8.95  2023-06-23\n"
     ]
    }
   ],
   "source": [
    "import pandas as pd\n",
    "\n",
    "df = pd.read_csv(r'C:\\Users\\CPNARANI\\AmazonWebScraperDataSet1.csv')\n",
    "print(df)"
   ]
  },
  {
   "cell_type": "code",
   "execution_count": 38,
   "id": "c7a7dd29",
   "metadata": {},
   "outputs": [],
   "source": [
    "#appending data to the CSV\n",
    "\n",
    "with open('AmazonWebScraperDataSet1.csv', 'a+', newline='', encoding ='UTF8') as f:\n",
    "    writer = csv.writer(f)\n",
    "    writer.writerow(data)"
   ]
  },
  {
   "cell_type": "code",
   "execution_count": 40,
   "id": "3e3d2783",
   "metadata": {},
   "outputs": [],
   "source": [
    "#Combine all of the above code into one function\n",
    "\n",
    "def check_price():\n",
    "    \n",
    "    URL = 'https://www.amazon.co.uk/Degree-Rotate-Leather-Rotating-Generation/dp/B08QL53P6Z/?_encoding=UTF8&pd_rd_w=NgqYv&content-id=amzn1.sym.bfa0f01e-fa62-4728-9e74-c40e8c88965e&pf_rd_p=bfa0f01e-fa62-4728-9e74-c40e8c88965e&pf_rd_r=HFPZC5105PYYXPXJV2AZ&pd_rd_wg=NYe92&pd_rd_r=f31b08da-6b23-420c-b5d8-7d4febfc4408&ref_=pd_gw_pd_pss_gwp_d_0'\n",
    "    headers = {\"User-Agent\": \"Mozilla/5.0 (Windows NT 10.0; Win64; x64) AppleWebKit/537.36 (KHTML, like Gecko) Chrome/78.0.3904.108 Safari/537.36\", \"Accept-Encoding\":\"gzip, deflate\", \"Accept\":\"text/html,application/xhtml+xml,application/xml;q=0.9,*/*;q=0.8\", \"DNT\":\"1\",\"Connection\":\"close\", \"Upgrade-Insecure-Requests\":\"1\"}\n",
    "\n",
    "    page = requests.get(URL,headers=headers)\n",
    "\n",
    "    soup1 = BeautifulSoup(page.content,\"html.parser\")\n",
    "\n",
    "    soup2 = BeautifulSoup(soup1.prettify(), \"html.parser\")\n",
    "\n",
    "    title = soup2.find(id='productTitle').get_text()\n",
    "    price = soup2.find(class_ ='a-offscreen').get_text()\n",
    "    \n",
    "    \n",
    "    import datetime\n",
    "\n",
    "    today = datetime.date.today()\n",
    "    \n",
    "    import csv\n",
    "\n",
    "    header = ['Title','Price','Date']\n",
    "    data = [title, price,today]\n",
    "    \n",
    "    with open('AmazonWebScraperDataSet1.csv', 'a+', newline='', encoding ='UTF8') as f:\n",
    "        writer = csv.writer(f)\n",
    "        writer.writerow(data)\n",
    "        \n",
    "    if price(14):\n",
    "        send_mail()\n"
   ]
  },
  {
   "cell_type": "code",
   "execution_count": 43,
   "id": "84cc2448",
   "metadata": {},
   "outputs": [
    {
     "ename": "KeyboardInterrupt",
     "evalue": "",
     "output_type": "error",
     "traceback": [
      "\u001b[1;31m---------------------------------------------------------------------------\u001b[0m",
      "\u001b[1;31mKeyboardInterrupt\u001b[0m                         Traceback (most recent call last)",
      "\u001b[1;32m~\\AppData\\Local\\Temp/ipykernel_1032/266218748.py\u001b[0m in \u001b[0;36m<module>\u001b[1;34m\u001b[0m\n\u001b[0;32m      4\u001b[0m \u001b[1;32mwhile\u001b[0m\u001b[1;33m(\u001b[0m\u001b[1;32mTrue\u001b[0m\u001b[1;33m)\u001b[0m\u001b[1;33m:\u001b[0m\u001b[1;33m\u001b[0m\u001b[1;33m\u001b[0m\u001b[0m\n\u001b[0;32m      5\u001b[0m     \u001b[0mcheck_price\u001b[0m\u001b[1;33m(\u001b[0m\u001b[1;33m)\u001b[0m\u001b[1;33m\u001b[0m\u001b[1;33m\u001b[0m\u001b[0m\n\u001b[1;32m----> 6\u001b[1;33m     \u001b[0mtime\u001b[0m\u001b[1;33m.\u001b[0m\u001b[0msleep\u001b[0m\u001b[1;33m(\u001b[0m\u001b[1;36m5\u001b[0m\u001b[1;33m)\u001b[0m\u001b[1;33m\u001b[0m\u001b[1;33m\u001b[0m\u001b[0m\n\u001b[0m",
      "\u001b[1;31mKeyboardInterrupt\u001b[0m: "
     ]
    }
   ],
   "source": [
    "# Runs check_price after a set time and inputs data into your CSV\n",
    "\n",
    "\n",
    "while(True):\n",
    "    check_price()\n",
    "    time.sleep(5)"
   ]
  },
  {
   "cell_type": "code",
   "execution_count": 44,
   "id": "b9dc3181",
   "metadata": {},
   "outputs": [
    {
     "name": "stdout",
     "output_type": "stream",
     "text": [
      "                                               Title  \\\n",
      "0  FSPRO Case for iPad Pro 11 2021/2020/2018 (Gen...   \n",
      "1  FSPRO Case for iPad Pro 11 2021/2020/2018 (Gen...   \n",
      "2  FSPRO Case for iPad Pro 11 2021/2020/2018 (Gen...   \n",
      "3  FSPRO Case for iPad Pro 11 2021/2020/2018 (Gen...   \n",
      "4  FSPRO Case for iPad Pro 11 2021/2020/2018 (Gen...   \n",
      "5  \\n            FSPRO Case for iPad Pro 11 2021/...   \n",
      "6  \\n            FSPRO Case for iPad Pro 11 2021/...   \n",
      "7  \\n            FSPRO Case for iPad Pro 11 2021/...   \n",
      "8  \\n            FSPRO Case for iPad Pro 11 2021/...   \n",
      "\n",
      "                                               Price        Date  \n",
      "0                                               8.95  2023-06-23  \n",
      "1                                               8.95  2023-06-23  \n",
      "2                                               8.95  2023-06-23  \n",
      "3                                               8.95  2023-06-23  \n",
      "4                                               8.95  2023-06-23  \n",
      "5  \\n                             £8.95\\n        ...  2023-06-23  \n",
      "6  \\n                             £8.95\\n        ...  2023-06-23  \n",
      "7  \\n                             £8.95\\n        ...  2023-06-23  \n",
      "8  \\n                             £8.95\\n        ...  2023-06-23  \n"
     ]
    }
   ],
   "source": [
    "import pandas as pd\n",
    "\n",
    "df = pd.read_csv(r'C:\\Users\\CPNARANI\\AmazonWebScraperDataSet1.csv')\n",
    "print(df)"
   ]
  },
  {
   "cell_type": "code",
   "execution_count": null,
   "id": "c195ea2f",
   "metadata": {},
   "outputs": [],
   "source": [
    "def send_mail():\n",
    "    server = smtplib.SMTP_SSL('smtp.gmail.com',465)\n",
    "    server.ehlo()\n",
    "    #server.starttls()\n",
    "    server.ehlo()\n",
    "    server.login('jagruthik78@gmail.com','xxxxxxxxxxxxxx')\n",
    "    \n",
    "    subject = \"The Case for ipad you want is below $4! Now is your chance to buy!\"\n",
    "    body = \"Jags, This is the moment we have been waiting for. Now is your chance to pick up the case for iPad. Don't mess it up! Link here:  https://www.amazon.co.uk/Degree-Rotate-Leather-Rotating-Generation/dp/B08QL53P6Z/?_encoding=UTF8&pd_rd_w=NgqYv&content-id=amzn1.sym.bfa0f01e-fa62-4728-9e74-c40e8c88965e&pf_rd_p=bfa0f01e-fa62-4728-9e74-c40e8c88965e&pf_rd_r=HFPZC5105PYYXPXJV2AZ&pd_rd_wg=NYe92&pd_rd_r=f31b08da-6b23-420c-b5d8-7d4febfc4408&ref_=pd_gw_pd_pss_gwp_d_0'\n",
    "\"\n",
    "   \n",
    "    msg = f\"Subject: {subject}\\n\\n{body}\"\n",
    "    \n",
    "    server.sendmail(\n",
    "        'jagruthik78@gmail.com',\n",
    "        msg\n",
    "     \n",
    "    )"
   ]
  }
 ],
 "metadata": {
  "kernelspec": {
   "display_name": "Python 3 (ipykernel)",
   "language": "python",
   "name": "python3"
  },
  "language_info": {
   "codemirror_mode": {
    "name": "ipython",
    "version": 3
   },
   "file_extension": ".py",
   "mimetype": "text/x-python",
   "name": "python",
   "nbconvert_exporter": "python",
   "pygments_lexer": "ipython3",
   "version": "3.9.7"
  }
 },
 "nbformat": 4,
 "nbformat_minor": 5
}
